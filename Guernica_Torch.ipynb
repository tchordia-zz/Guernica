{
 "cells": [
  {
   "cell_type": "code",
   "execution_count": 1,
   "metadata": {
    "collapsed": false
   },
   "outputs": [],
   "source": [
    "require 'nn'\n",
    "require 'lfs'\n",
    "require 'image'"
   ]
  },
  {
   "cell_type": "code",
   "execution_count": 12,
   "metadata": {
    "collapsed": false
   },
   "outputs": [
    {
     "data": {
      "text/plain": [
       "/Users/Tanmay/Development/Guernica/train_4/\t\n"
      ]
     },
     "execution_count": 12,
     "metadata": {},
     "output_type": "execute_result"
    },
    {
     "data": {
      "text/plain": [
       "done loading!\t\n"
      ]
     },
     "execution_count": 12,
     "metadata": {},
     "output_type": "execute_result"
    },
    {
     "data": {
      "text/plain": [
       ".\t\n",
       "..\t\n",
       ".DS_Store\t\n",
       ".ipynb_checkpoints\t\n",
       "4.jpg\t\n",
       "4.jpg\t\n"
      ]
     },
     "execution_count": 12,
     "metadata": {},
     "output_type": "execute_result"
    },
    {
     "data": {
      "text/plain": [
       "40.jpg\t\n",
       "40.jpg\t\n"
      ]
     },
     "execution_count": 12,
     "metadata": {},
     "output_type": "execute_result"
    },
    {
     "data": {
      "text/plain": [
       "400.jpg\t\n",
       "400.jpg\t\n"
      ]
     },
     "execution_count": 12,
     "metadata": {},
     "output_type": "execute_result"
    },
    {
     "data": {
      "text/plain": [
       "40000.jpg\t\n",
       "40000.jpg\t\n"
      ]
     },
     "execution_count": 12,
     "metadata": {},
     "output_type": "execute_result"
    },
    {
     "data": {
      "text/plain": [
       "40002.jpg\t\n",
       "40002.jpg\t\n"
      ]
     },
     "execution_count": 12,
     "metadata": {},
     "output_type": "execute_result"
    },
    {
     "data": {
      "text/plain": [
       "40003.jpg\t\n",
       "40003.jpg\t\n"
      ]
     },
     "execution_count": 12,
     "metadata": {},
     "output_type": "execute_result"
    },
    {
     "data": {
      "text/plain": [
       "40004.jpg\t\n",
       "40004.jpg\t\n"
      ]
     },
     "execution_count": 12,
     "metadata": {},
     "output_type": "execute_result"
    },
    {
     "data": {
      "text/plain": [
       "40005.jpg\t\n",
       "40005.jpg\t\n"
      ]
     },
     "execution_count": 12,
     "metadata": {},
     "output_type": "execute_result"
    },
    {
     "data": {
      "text/plain": [
       "40008.jpg\t\n",
       "40008.jpg\t\n"
      ]
     },
     "execution_count": 12,
     "metadata": {},
     "output_type": "execute_result"
    },
    {
     "ename": "inconsistent tensor size at /Users/Tanmay/torch/pkg/torch/lib/TH/generic/THTensorCopy.c:7\nstack traceback:\n\t[C]: at 0x08733e90\n\t[C]: in function '__newindex'\n\t[string \"numsamples = 10000...\"]:28: in main chunk\n\t[C]: in function 'xpcall'\n\t/Users/Tanmay/torch/install/share/lua/5.1/itorch/main.lua:209: in function </Users/Tanmay/torch/install/share/lua/5.1/itorch/main.lua:173>\n\t/Users/Tanmay/torch/install/share/lua/5.1/lzmq/poller.lua:75: in function 'poll'\n\t...rs/Tanmay/torch/install/share/lua/5.1/lzmq/impl/loop.lua:307: in function 'poll'\n\t...rs/Tanmay/torch/install/share/lua/5.1/lzmq/impl/loop.lua:325: in function 'sleep_ex'\n\t...rs/Tanmay/torch/install/share/lua/5.1/lzmq/impl/loop.lua:370: in function 'start'\n\t/Users/Tanmay/torch/install/share/lua/5.1/itorch/main.lua:381: in main chunk\n\t[C]: in function 'require'\n\t(command line):1: in main chunk\n\t[C]: at 0x01083c9d10",
     "evalue": "",
     "output_type": "error",
     "traceback": [
      "inconsistent tensor size at /Users/Tanmay/torch/pkg/torch/lib/TH/generic/THTensorCopy.c:7\nstack traceback:\n\t[C]: at 0x08733e90\n\t[C]: in function '__newindex'\n\t[string \"numsamples = 10000...\"]:28: in main chunk\n\t[C]: in function 'xpcall'\n\t/Users/Tanmay/torch/install/share/lua/5.1/itorch/main.lua:209: in function </Users/Tanmay/torch/install/share/lua/5.1/itorch/main.lua:173>\n\t/Users/Tanmay/torch/install/share/lua/5.1/lzmq/poller.lua:75: in function 'poll'\n\t...rs/Tanmay/torch/install/share/lua/5.1/lzmq/impl/loop.lua:307: in function 'poll'\n\t...rs/Tanmay/torch/install/share/lua/5.1/lzmq/impl/loop.lua:325: in function 'sleep_ex'\n\t...rs/Tanmay/torch/install/share/lua/5.1/lzmq/impl/loop.lua:370: in function 'start'\n\t/Users/Tanmay/torch/install/share/lua/5.1/itorch/main.lua:381: in main chunk\n\t[C]: in function 'require'\n\t(command line):1: in main chunk\n\t[C]: at 0x01083c9d10"
     ]
    }
   ],
   "source": [
    "numsamples = 10000\n",
    "imwidth = 100\n",
    "imheight = 100\n",
    "numchannels = 3\n",
    "numcategories = 10\n",
    "\n",
    "pwd = lfs.currentdir() .. '/train_4/'\n",
    "print(pwd)\n",
    "limit = 10\n",
    "\n",
    "i = 1\n",
    "trainset = {}\n",
    "file2index = {}\n",
    "\n",
    "trainset.data = torch.Tensor(numsamples, imwidth, imheight, numchannels):zero()\n",
    "trainset.labels = torch.Tensor(numsamples, numcategories):zero()\n",
    "\n",
    "print(\"done loading!\")\n",
    "for file in paths.files(pwd) do\n",
    "    print(file)\n",
    "    if(file:find('.jpg$') and i < limit) then\n",
    "        print(file)\n",
    "        temp_im = image.scale(image.load(pwd .. file), imwidth, imheight)\n",
    "        if (temp_im:dim() == 2) then \n",
    "            temp_im2 = torch.cat(temp_im, temp_im, 3)\n",
    "            temp_im = torch.cat(temp_im2, temp_im, 3)\n",
    "        end\n",
    "        trainset.data[i] = temp_im\n",
    "        file2index[file] = i\n",
    "        i = i + 1\n",
    "    end\n",
    "end\n",
    "\n",
    "print(file2index[\"4.jpg\"])\n",
    "print(\"done!\")\n"
   ]
  },
  {
   "cell_type": "code",
   "execution_count": null,
   "metadata": {
    "collapsed": true
   },
   "outputs": [],
   "source": [
    "lol"
   ]
  },
  {
   "cell_type": "code",
   "execution_count": 6,
   "metadata": {
    "collapsed": false
   },
   "outputs": [
    {
     "data": {
      "text/plain": [
       "hello\t\n"
      ]
     },
     "execution_count": 6,
     "metadata": {},
     "output_type": "execute_result"
    }
   ],
   "source": [
    "print(\"hello\")"
   ]
  },
  {
   "cell_type": "code",
   "execution_count": 11,
   "metadata": {
    "collapsed": false
   },
   "outputs": [
    {
     "data": {
      "text/plain": [
       "(1,.,.) = \n",
       "  0  0\n",
       "\n",
       "(2,.,.) = \n",
       "  0  0\n",
       "\n",
       "(3,.,.) = \n",
       "  0  0\n",
       "\n",
       "(4,.,.) = \n",
       "  0  0\n",
       "\n",
       "(5,.,.) = \n",
       "  0  0\n",
       "[torch.DoubleTensor of size 5x1x2]\n",
       "\n"
      ]
     },
     "execution_count": 11,
     "metadata": {},
     "output_type": "execute_result"
    }
   ],
   "source": [
    "t = torch.Tensor(5):zero();\n",
    "print(torch.cat(t,t,3))"
   ]
  },
  {
   "cell_type": "code",
   "execution_count": null,
   "metadata": {
    "collapsed": true
   },
   "outputs": [],
   "source": []
  }
 ],
 "metadata": {
  "celltoolbar": "Raw Cell Format",
  "kernelspec": {
   "display_name": "iTorch",
   "language": "lua",
   "name": "itorch"
  },
  "language_info": {
   "name": "lua",
   "version": "5.1"
  }
 },
 "nbformat": 4,
 "nbformat_minor": 0
}
