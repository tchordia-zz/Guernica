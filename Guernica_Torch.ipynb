{
 "cells": [
  {
   "cell_type": "code",
   "execution_count": 1,
   "metadata": {
    "collapsed": true
   },
   "outputs": [],
   "source": [
    "require 'nn'\n",
    "require 'lfs'\n",
    "require 'image'\n",
    "require 'csvigo'"
   ]
  },
  {
   "cell_type": "code",
   "execution_count": 2,
   "metadata": {
    "collapsed": false,
    "scrolled": true
   },
   "outputs": [
    {
     "data": {
      "text/plain": [
       "/Users/Tanmay/Development/Guernica/train_4/\t\n"
      ]
     },
     "execution_count": 2,
     "metadata": {},
     "output_type": "execute_result"
    },
    {
     "data": {
      "text/plain": [
       "done loading!\t\n"
      ]
     },
     "execution_count": 2,
     "metadata": {},
     "output_type": "execute_result"
    },
    {
     "ename": "not enough memory",
     "evalue": "",
     "output_type": "error",
     "traceback": [
      "not enough memory"
     ]
    }
   ],
   "source": [
    "numsamples = 10000\n",
    "imwidth = 100\n",
    "imheight = 100\n",
    "numchannels = 3\n",
    "numcategories = 10\n",
    "\n",
    "pwd = lfs.currentdir() .. '/train_4/'\n",
    "print(pwd)\n",
    "limit = 1000\n",
    "\n",
    "i = 1\n",
    "trainset = {}\n",
    "file2index = {}\n",
    "\n",
    "trainset.data = torch.Tensor(numsamples, imwidth, imheight, numchannels):zero()\n",
    "trainset.labels = torch.Tensor(numsamples, numcategories):zero()\n",
    "\n",
    "print(\"done loading!\")\n",
    "for file in paths.files(pwd) do\n",
    "    if(file:find('.jpg$') and i < limit) then\n",
    "        print(file)\n",
    "--         temp_im = image.scale(image.load(pwd .. file), imwidth, imheight)\n",
    "--         if (temp_im:size(1) == 1) then \n",
    "--             print(\"is grayscale...\")\n",
    "--             temp_im = torch.cat(torch.cat(temp_im, temp_im, 1), temp_im, 1)\n",
    "--         end\n",
    "--         if (torch.all(temp_im:eq(torch.LongStorage(numchannels, imwidth, imheight)))) then\n",
    "--             trainset.data[i] = temp_im\n",
    "--             file2index[file] = i\n",
    "--             i = i + 1\n",
    "--         else\n",
    "--             print(\"image wrong size: \")\n",
    "--             print(temp_im:size())\n",
    "--         end\n",
    "    end\n",
    "end\n",
    "\n",
    "print(file2index[\"4.jpg\"])\n",
    "print(\"done!\")"
   ]
  },
  {
   "cell_type": "code",
   "execution_count": 9,
   "metadata": {
    "collapsed": false,
    "scrolled": true
   },
   "outputs": [
    {
     "data": {
      "text/plain": [
       "<csv>\tparsing file: train_info.csv\t\n"
      ]
     },
     "execution_count": 9,
     "metadata": {},
     "output_type": "execute_result"
    },
    {
     "data": {
      "text/plain": [
       "<csv>\tparsing done\t\n"
      ]
     },
     "execution_count": 9,
     "metadata": {},
     "output_type": "execute_result"
    },
    {
     "data": {
      "text/plain": [
       "filename,artist,title,style,genre,date\n",
       "102257.jpg,5b39c876740bfc1cfaf544721c43cac3,Uriel,Color Field Painting,abstract,1955.0\n",
       "75232.jpg,5b39c876740bfc1cfaf544721c43cac3,Vir Heroicus Sublimis,Color Field Painting,abstract,1950.0\n",
       "29855.jpg,96e5bc98488ed589b9bf17ad9fd09371,Night March of a Hundred Demons (left half),Yamato-e,mythological painting,\n",
       "62252.jpg,5b39c876740bfc1cfaf544721c43cac3,\"Who’s Afraid of Red,  Yellow and Blue II\",Color Field Painting,abstract,\n",
       "63861.jpg,5b39c876740bfc1cfaf544721c43cac3,Black Fire I ,Color Field Painting,abstract,1963.0\n",
       "53180.jpg,782192dc825c7c1149825adcb7caacbc,Camellia and Bush Warbler,Ukiyo-e,bird-and-flower painting,1844\n",
       "70944.jpg,afdfc43410410892bc9d1c4d3c3d6220,Forbidden Land ,Surrealism,landscape,1937.0\n",
       "59792.jpg,9f0984ce62483f294fc666d74e0974f6,Descent from the cross,Northern Renaissance,religious painting,\n",
       "48138.jpg,3a40b18a78ceb822961393c50bdb522b,Snowy landscape with a woman brandishing a broom and a man holding an umbrella,Ukiyo-e,landscape,\n",
       ".. .. .. .. .. .. .. .. .. \n",
       ".. .. .. .. .. .. .. .. .. \n",
       ".. .. .. .. .. .. .. .. .. \n",
       ".. .. .. .. .. .. .. .. .. \n",
       ".. .. .. .. .. .. .. .. .. \n",
       ".. .. .. .. .. .. .. .. .. \n",
       ".. .. .. .. .. .. .. .. .. \n",
       ".. .. .. .. .. .. .. .. .. \n",
       ".. .. .. .. .. .. .. .. .. \n",
       ".. .. .. .. .. .. .. .. .. \n",
       "95570.jpg,8e611c16472b50d75960b69029a4bfd7,Hot dog,Pop Art,still life,1964.0\n",
       "38133.jpg,09f10ed3f09cbd07aa596749c6277ea6,Intervista con la materia,Dada,abstract,\n",
       "9400.jpg,ece3c2c2f8cd7d618f008715c70d2d68,Tulip ,Abstract Expressionism,abstract,1978.0\n",
       "21240.jpg,63b769fe292fcd09463dcebb2c2fc6e6,Composition,Concretism,abstract,\n",
       "17971.jpg,e4f90e4cae5e75ee90d8852c013c0ff2,Study of Horse Heads,Early Renaissance,sketch and study,1433\n",
       "36690.jpg,d9dec036e03403f4c1b795ba026925d1,Structures and Signs,Abstract Art,abstract,1957.0\n",
       "23862.jpg,67959e4e5df05b3d9db7c97fd9a0b0f6,Number 547,Abstract Expressionism,,1954.0\n",
       "25525.jpg,2d72f2000c42051e7c350a39bdce9bc1,Number 13A (Arabesque),Action painting,abstract,1948.0\n",
       "47038.jpg,f920b951670e3d8dc3c759f12ced7a3e,St. Francis of Assisi,Baroque,religious painting,\n",
       "9021.jpg,e4183fd3d19c2bca8b7c56d19af92252,Thebe's Revenge,,marina,1982.0\n",
       "36564.jpg,0c491bebb405572a8fca52e950a45c20,House Manhufe ,Cubism,landscape,1913\n",
       "\n"
      ]
     },
     "execution_count": 9,
     "metadata": {},
     "output_type": "execute_result"
    }
   ],
   "source": [
    "labels = csvigo.load({path = \"train_info.csv\", mode = \"large\"})\n",
    "print(labels)"
   ]
  },
  {
   "cell_type": "code",
   "execution_count": 10,
   "metadata": {
    "collapsed": true
   },
   "outputs": [
    {
     "data": {
      "text/plain": [
       "{\n",
       "  1 : 102257.jpg\n",
       "  2 : 5b39c876740bfc1cfaf544721c43cac3\n",
       "  3 : Uriel\n",
       "  4 : Color Field Painting\n",
       "  5 : abstract\n",
       "  6 : 1955.0\n",
       "}\n",
       "{\n",
       "  filename : 1\n",
       "  title : 3\n",
       "  genre : 5\n",
       "  date : 6\n",
       "  artist : 2\n",
       "  style : 4\n",
       "}\n",
       "79434\t\n"
      ]
     },
     "execution_count": 10,
     "metadata": {},
     "output_type": "execute_result"
    }
   ],
   "source": [
    "print(labels[2])\n",
    "access = {}\n",
    "for key, value in pairs(labels[1]) do\n",
    "    access[value] = key\n",
    "end\n",
    "\n",
    "print(access)\n",
    "print(#labels)\n"
   ]
  },
  {
   "cell_type": "code",
   "execution_count": 62,
   "metadata": {
    "collapsed": false,
    "scrolled": true
   },
   "outputs": [
    {
     "data": {
      "text/plain": [
       " 1\n",
       " 0\n",
       " 0\n",
       " 0\n",
       " 0\n",
       " 0\n",
       " 0\n",
       " 0\n",
       " 0\n",
       "[torch.DoubleTensor of size 9]\n",
       "\n",
       "9\t\n",
       "{\n",
       "  4b0465826ffd6db797ea6f3a5898df79 : 4\n",
       "  7bd66a895ffb6653f3e2aa022cd55330 : 3\n",
       "  96ea00928e83b362a190d624a3c357ca : 1\n",
       "  342d7068656b00878b23e1031a3ddf50 : 8\n",
       "  c3e9d9ebe5f2900190bef9342c440bd9 : 2\n",
       "  d89b966d6ebc893be175803cbec33251 : 9\n",
       "  7956d013c59d256c4f12fcf02d6d8d5e : 5\n",
       "  83e9823eb4868ca162fd3b7adff70096 : 6\n",
       "  d34a660a6897d54c215dd65450b198e0 : 7\n",
       "}\n",
       "{\n",
       "  1 : 8\n",
       "  2 : 1\n",
       "  3 : 3\n",
       "  4 : 4\n",
       "  5 : 5\n",
       "  6 : 9\n",
       "  7 : 2\n",
       "  8 : 6\n",
       "  9 : 7\n",
       "}\n"
      ]
     },
     "execution_count": 62,
     "metadata": {},
     "output_type": "execute_result"
    }
   ],
   "source": [
    "numArtists = 0\n",
    "getIndexFromArtist = {}\n",
    "index2val = {}\n",
    "--Get a unique artist id for each artist\n",
    "for i = 1, #labels do \n",
    "    local row = labels[i]\n",
    "    local artistName = row[access.artist]\n",
    "    local filename = row[access.filename]\n",
    "    \n",
    "    if file2index[filename] ~= nil then \n",
    "        -- if the artist doesn't have a unique id, assign one\n",
    "        if getIndexFromArtist[artistName] == nil then \n",
    "            numArtists = numArtists + 1\n",
    "            getIndexFromArtist[artistName] = numArtists;\n",
    "        end\n",
    "        -- assign each index the id of the artist who wrote it\n",
    "        index2val[file2index[filename]] = getIndexFromArtist[artistName]\n",
    "    end\n",
    "end\n",
    "\n",
    "final_labels = {}\n",
    "-- convert each number from index2val into a tensor of size numArtists\n",
    "for key, value in pairs(index2val) do\n",
    "    local tens = torch.Tensor(numArtists):zero()\n",
    "    tens:indexFill(1,torch.LongTensor{value},1)\n",
    "    final_labels[key] = tens\n",
    "end\n",
    "print(final_labels[2])\n",
    "print(numArtists)\n",
    "print(authors)\n",
    "print(index2val)"
   ]
  },
  {
   "cell_type": "code",
   "execution_count": null,
   "metadata": {
    "collapsed": true
   },
   "outputs": [],
   "source": []
  }
 ],
 "metadata": {
  "kernelspec": {
   "display_name": "iTorch",
   "language": "lua",
   "name": "itorch"
  },
  "language_info": {
   "name": "lua",
   "version": "5.1"
  }
 },
 "nbformat": 4,
 "nbformat_minor": 0
}
